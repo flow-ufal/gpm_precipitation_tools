{
 "cells": [
  {
   "cell_type": "markdown",
   "metadata": {},
   "source": [
    "# Utilizando o merge-downloader"
   ]
  },
  {
   "cell_type": "markdown",
   "metadata": {},
   "source": [
    "## Obtendo série temporal"
   ]
  },
  {
   "metadata": {
    "ExecuteTime": {
     "end_time": "2024-08-16T01:09:16.748492Z",
     "start_time": "2024-08-16T01:09:16.746247Z"
    }
   },
   "cell_type": "code",
   "source": "",
   "outputs": [],
   "execution_count": null
  },
  {
   "cell_type": "code",
   "metadata": {
    "ExecuteTime": {
     "end_time": "2024-08-16T01:09:18.637149Z",
     "start_time": "2024-08-16T01:09:16.764039Z"
    }
   },
   "source": [
    "# Loading packages\n",
    "import geopandas as gpd\n",
    "import xarray as xr\n",
    "from mergedownloader.downloader import Downloader\n",
    "from mergedownloader.inpeparser import INPEParsers, INPETypes\n",
    "# from mergedownloader.utils import GISUtil\n",
    "from shapely import Point\n",
    "import matplotlib.pyplot as plt"
   ],
   "outputs": [],
   "execution_count": 1
  },
  {
   "cell_type": "code",
   "metadata": {
    "ExecuteTime": {
     "end_time": "2024-08-16T01:09:18.643749Z",
     "start_time": "2024-08-16T01:09:18.639157Z"
    }
   },
   "source": [
    "# Set download local folder\n",
    "download_folder = 'D:\\Pesquisa\\PIBIC_23-24\\Dados_GPM\\Test'"
   ],
   "outputs": [],
   "execution_count": 2
  },
  {
   "cell_type": "code",
   "metadata": {
    "ExecuteTime": {
     "end_time": "2024-08-16T01:09:18.651267Z",
     "start_time": "2024-08-16T01:09:18.644754Z"
    }
   },
   "source": [
    "# Create an instance\n",
    "downloader = Downloader(\n",
    "    server=INPEParsers.FTPurl, \n",
    "    parsers=INPEParsers.parsers,\n",
    "    local_folder=download_folder\n",
    ")"
   ],
   "outputs": [],
   "execution_count": 3
  },
  {
   "cell_type": "code",
   "metadata": {
    "ExecuteTime": {
     "end_time": "2024-08-16T01:09:46.471379Z",
     "start_time": "2024-08-16T01:09:18.653275Z"
    }
   },
   "source": [
    "# Create cube with daily rain\n",
    "cube = downloader.create_cube(\n",
    "    start_date='2022-01-01',  # Período de início dos dados\n",
    "    end_date='2022-01-31',  # Período final dos dados\n",
    "    datatype=INPETypes.DAILY_RAIN  # Tipo de dado (diário)\n",
    ")"
   ],
   "outputs": [],
   "execution_count": 4
  },
  {
   "cell_type": "markdown",
   "metadata": {},
   "source": [
    "## Convertendo para um dataframe"
   ]
  },
  {
   "cell_type": "code",
   "metadata": {
    "ExecuteTime": {
     "end_time": "2024-08-16T01:09:46.477163Z",
     "start_time": "2024-08-16T01:09:46.472387Z"
    }
   },
   "source": [
    "# Create list with precipitation data\n",
    "import glob\n",
    "\n",
    "filename = glob.glob(\"D:\\Pesquisa\\PIBIC_23-24\\Dados_GPM\\Test\\DAILY_RAIN\\*.grib2\")"
   ],
   "outputs": [],
   "execution_count": 5
  },
  {
   "cell_type": "code",
   "metadata": {
    "ExecuteTime": {
     "end_time": "2024-08-16T01:09:53.609858Z",
     "start_time": "2024-08-16T01:09:46.478169Z"
    }
   },
   "source": [
    "# Create the dataframe with precipitation\n",
    "import pandas as pd\n",
    "\n",
    "final_df = pd.DataFrame()\n",
    "\n",
    "for file in filename:\n",
    "    ds = xr.open_dataset(file, engine='cfgrib')\n",
    "    ds = ds.get('prec')\n",
    "    df = ds.to_dataframe()\n",
    "    final_df = pd.concat([final_df, df])"
   ],
   "outputs": [],
   "execution_count": 6
  },
  {
   "cell_type": "code",
   "metadata": {
    "ExecuteTime": {
     "end_time": "2024-08-16T01:09:53.616121Z",
     "start_time": "2024-08-16T01:09:53.609858Z"
    }
   },
   "source": [
    "# Number of data\n",
    "print('Quantidade de dados de chuva no dataset: ', final_df.shape[0])"
   ],
   "outputs": [
    {
     "name": "stdout",
     "output_type": "stream",
     "text": [
      "Quantidade de dados de chuva no dataset:  28672644\n"
     ]
    }
   ],
   "execution_count": 7
  },
  {
   "cell_type": "code",
   "metadata": {
    "ExecuteTime": {
     "end_time": "2024-08-16T01:09:53.900524Z",
     "start_time": "2024-08-16T01:09:53.617128Z"
    }
   },
   "source": [
    "# Unpackage the longitude and latitude data\n",
    "latitudes = final_df.index.get_level_values('latitude')\n",
    "longitudes = final_df.index.get_level_values('longitude')"
   ],
   "outputs": [],
   "execution_count": 8
  },
  {
   "cell_type": "code",
   "metadata": {
    "ExecuteTime": {
     "end_time": "2024-08-16T01:10:01.913598Z",
     "start_time": "2024-08-16T01:09:53.902068Z"
    }
   },
   "source": [
    "# Convert range of longitude values\n",
    "map_function = lambda lon: (lon - 360) if (lon > 180) else lon\n",
    "remapped_longitudes = longitudes.map(map_function)"
   ],
   "outputs": [],
   "execution_count": 9
  },
  {
   "cell_type": "code",
   "metadata": {
    "ExecuteTime": {
     "end_time": "2024-08-16T01:10:02.066421Z",
     "start_time": "2024-08-16T01:10:01.916609Z"
    }
   },
   "source": [
    "# Create columns\n",
    "final_df['longitude'] = remapped_longitudes\n",
    "final_df['latitude'] = latitudes"
   ],
   "outputs": [],
   "execution_count": 10
  },
  {
   "cell_type": "code",
   "metadata": {
    "ExecuteTime": {
     "end_time": "2024-08-16T01:10:05.287811Z",
     "start_time": "2024-08-16T01:10:02.067429Z"
    }
   },
   "source": [
    "# Format dataframe\n",
    "df_formatted = final_df.reset_index(drop=True)\n",
    "df_formatted = df_formatted.drop(columns=['time', 'step', 'surface'])"
   ],
   "outputs": [],
   "execution_count": 11
  },
  {
   "cell_type": "markdown",
   "metadata": {},
   "source": [
    "## Criando um GeoDataFrame e fazendo manipulações"
   ]
  },
  {
   "cell_type": "code",
   "metadata": {
    "ExecuteTime": {
     "end_time": "2024-08-16T01:15:15.748568Z",
     "start_time": "2024-08-16T01:10:05.288817Z"
    }
   },
   "source": [
    "# Convert for GeoDataFrame\n",
    "geometry = [Point(coords) for coords in zip(df_formatted['longitude'], df_formatted['latitude'])]\n",
    "gdf = gpd.GeoDataFrame(data=df_formatted, geometry=geometry)"
   ],
   "outputs": [],
   "execution_count": 12
  },
  {
   "cell_type": "code",
   "metadata": {
    "ExecuteTime": {
     "end_time": "2024-08-16T01:15:16.169561Z",
     "start_time": "2024-08-16T01:15:15.751707Z"
    }
   },
   "source": [
    "# Sertão Alagoano data\n",
    "sertao = \"D:\\Pesquisa\\PIBIC_23-24\\GIS\\Sertao.shp\"\n",
    "gdf_sertao = gpd.read_file(filename=sertao)\n",
    "gdf_sertao"
   ],
   "outputs": [
    {
     "data": {
      "text/plain": [
       "                RAmbiental                                           geometry\n",
       "0                   Sertão  POLYGON ((-37.75222 -8.85316, -37.75111 -8.855...\n",
       "1  Sertão do São Francisco  POLYGON ((-37.87638 -9.40437, -37.87228 -9.406..."
      ],
      "text/html": [
       "<div>\n",
       "<style scoped>\n",
       "    .dataframe tbody tr th:only-of-type {\n",
       "        vertical-align: middle;\n",
       "    }\n",
       "\n",
       "    .dataframe tbody tr th {\n",
       "        vertical-align: top;\n",
       "    }\n",
       "\n",
       "    .dataframe thead th {\n",
       "        text-align: right;\n",
       "    }\n",
       "</style>\n",
       "<table border=\"1\" class=\"dataframe\">\n",
       "  <thead>\n",
       "    <tr style=\"text-align: right;\">\n",
       "      <th></th>\n",
       "      <th>RAmbiental</th>\n",
       "      <th>geometry</th>\n",
       "    </tr>\n",
       "  </thead>\n",
       "  <tbody>\n",
       "    <tr>\n",
       "      <th>0</th>\n",
       "      <td>Sertão</td>\n",
       "      <td>POLYGON ((-37.75222 -8.85316, -37.75111 -8.855...</td>\n",
       "    </tr>\n",
       "    <tr>\n",
       "      <th>1</th>\n",
       "      <td>Sertão do São Francisco</td>\n",
       "      <td>POLYGON ((-37.87638 -9.40437, -37.87228 -9.406...</td>\n",
       "    </tr>\n",
       "  </tbody>\n",
       "</table>\n",
       "</div>"
      ]
     },
     "execution_count": 13,
     "metadata": {},
     "output_type": "execute_result"
    }
   ],
   "execution_count": 13
  },
  {
   "cell_type": "code",
   "metadata": {
    "ExecuteTime": {
     "end_time": "2024-08-16T01:15:44.642247Z",
     "start_time": "2024-08-16T01:15:16.170077Z"
    }
   },
   "source": [
    "# Clip data rain\n",
    "gdf.set_crs('4674', inplace=True)\n",
    "prec_clip = gpd.clip(gdf=gdf, mask=gdf_sertao)\n",
    "prec_clip.reset_index(drop=True, inplace=True)"
   ],
   "outputs": [],
   "execution_count": 14
  },
  {
   "cell_type": "code",
   "metadata": {
    "ExecuteTime": {
     "end_time": "2024-08-16T01:16:10.810487Z",
     "start_time": "2024-08-16T01:15:44.644257Z"
    }
   },
   "source": [
    "# Create ID column\n",
    "list_geom_u = list(set(prec_clip['geometry'].values))\n",
    "prec_clip.loc[:, 'ID'] = -99\n",
    "\n",
    "for row in range(len(prec_clip)):\n",
    "    for i in range(len(list_geom_u)):\n",
    "        if list_geom_u[i] == prec_clip.iloc[row]['geometry']:\n",
    "            prec_clip.loc[row, 'ID'] = i"
   ],
   "outputs": [
    {
     "name": "stderr",
     "output_type": "stream",
     "text": [
      "c:\\Users\\pedro\\anaconda3\\envs\\GPM\\Lib\\site-packages\\geopandas\\geodataframe.py:1525: SettingWithCopyWarning: \n",
      "A value is trying to be set on a copy of a slice from a DataFrame.\n",
      "Try using .loc[row_indexer,col_indexer] = value instead\n",
      "\n",
      "See the caveats in the documentation: https://pandas.pydata.org/pandas-docs/stable/user_guide/indexing.html#returning-a-view-versus-a-copy\n",
      "  super().__setitem__(key, value)\n"
     ]
    }
   ],
   "execution_count": 15
  },
  {
   "metadata": {
    "ExecuteTime": {
     "end_time": "2024-08-16T01:16:10.925094Z",
     "start_time": "2024-08-16T01:16:10.811496Z"
    }
   },
   "cell_type": "code",
   "source": [
    "# Create pivot table\n",
    "prec_Series = prec_clip.pivot_table(values='prec', index='ID', columns='valid_time')\n",
    "prec_Series = gpd.GeoDataFrame(prec_Series, geometry=list_geom_u)\n",
    "prec_Series.head()"
   ],
   "outputs": [
    {
     "data": {
      "text/plain": [
       "valid_time  2022-01-01 12:00:00  2022-01-02 12:00:00  2022-01-03 12:00:00  \\\n",
       "ID                                                                          \n",
       "0                           0.0                  0.0                  0.0   \n",
       "1                           0.0                  0.0                  0.0   \n",
       "2                           0.0                  0.0                  0.0   \n",
       "3                           0.0                  0.0                  0.0   \n",
       "4                           0.0                  0.0                  0.0   \n",
       "\n",
       "valid_time  2022-01-04 12:00:00  2022-01-05 12:00:00  2022-01-06 12:00:00  \\\n",
       "ID                                                                          \n",
       "0                        0.1875                0.125                0.250   \n",
       "1                        0.0625                0.125                4.375   \n",
       "2                        0.0000                0.000               10.625   \n",
       "3                        0.1875                0.125                0.125   \n",
       "4                        0.0625                0.375                0.750   \n",
       "\n",
       "valid_time  2022-01-07 12:00:00  2022-01-08 12:00:00  2022-01-09 12:00:00  \\\n",
       "ID                                                                          \n",
       "0                         0.000                1.875                  0.0   \n",
       "1                         0.500                0.000                  0.0   \n",
       "2                         1.500                0.000                  0.0   \n",
       "3                         0.125                1.125                  0.0   \n",
       "4                         0.375                0.000                  0.0   \n",
       "\n",
       "valid_time  2022-01-10 12:00:00  ...  2022-01-23 12:00:00  \\\n",
       "ID                               ...                        \n",
       "0                           0.0  ...                0.000   \n",
       "1                           0.0  ...                0.125   \n",
       "2                           0.0  ...                0.000   \n",
       "3                           0.0  ...                0.000   \n",
       "4                           0.0  ...                0.000   \n",
       "\n",
       "valid_time  2022-01-24 12:00:00  2022-01-25 12:00:00  2022-01-26 12:00:00  \\\n",
       "ID                                                                          \n",
       "0                       11.1875                0.000                0.125   \n",
       "1                        0.2500                0.250                0.000   \n",
       "2                        0.0000                1.125                0.000   \n",
       "3                        7.6250                0.000                0.125   \n",
       "4                        0.0000                0.000                0.000   \n",
       "\n",
       "valid_time  2022-01-27 12:00:00  2022-01-28 12:00:00  2022-01-29 12:00:00  \\\n",
       "ID                                                                          \n",
       "0                        0.1250                0.625                1.875   \n",
       "1                        0.1875                0.000               10.875   \n",
       "2                        0.0625                0.000               21.250   \n",
       "3                        0.1875                1.125                2.625   \n",
       "4                        1.0000                0.000               12.500   \n",
       "\n",
       "valid_time  2022-01-30 12:00:00  2022-01-31 12:00:00  \\\n",
       "ID                                                     \n",
       "0                         0.250               1.9375   \n",
       "1                         0.625               3.5625   \n",
       "2                         6.375               2.7500   \n",
       "3                         0.250               1.9375   \n",
       "4                         0.125               2.0000   \n",
       "\n",
       "valid_time                     geometry  \n",
       "ID                                       \n",
       "0           POINT (-36.95000 -10.05000)  \n",
       "1            POINT (-37.35000 -9.55000)  \n",
       "2            POINT (-37.75000 -9.45000)  \n",
       "3            POINT (-37.05000 -9.95000)  \n",
       "4            POINT (-37.05000 -9.45000)  \n",
       "\n",
       "[5 rows x 32 columns]"
      ],
      "text/html": [
       "<div>\n",
       "<style scoped>\n",
       "    .dataframe tbody tr th:only-of-type {\n",
       "        vertical-align: middle;\n",
       "    }\n",
       "\n",
       "    .dataframe tbody tr th {\n",
       "        vertical-align: top;\n",
       "    }\n",
       "\n",
       "    .dataframe thead th {\n",
       "        text-align: right;\n",
       "    }\n",
       "</style>\n",
       "<table border=\"1\" class=\"dataframe\">\n",
       "  <thead>\n",
       "    <tr style=\"text-align: right;\">\n",
       "      <th>valid_time</th>\n",
       "      <th>2022-01-01 12:00:00</th>\n",
       "      <th>2022-01-02 12:00:00</th>\n",
       "      <th>2022-01-03 12:00:00</th>\n",
       "      <th>2022-01-04 12:00:00</th>\n",
       "      <th>2022-01-05 12:00:00</th>\n",
       "      <th>2022-01-06 12:00:00</th>\n",
       "      <th>2022-01-07 12:00:00</th>\n",
       "      <th>2022-01-08 12:00:00</th>\n",
       "      <th>2022-01-09 12:00:00</th>\n",
       "      <th>2022-01-10 12:00:00</th>\n",
       "      <th>...</th>\n",
       "      <th>2022-01-23 12:00:00</th>\n",
       "      <th>2022-01-24 12:00:00</th>\n",
       "      <th>2022-01-25 12:00:00</th>\n",
       "      <th>2022-01-26 12:00:00</th>\n",
       "      <th>2022-01-27 12:00:00</th>\n",
       "      <th>2022-01-28 12:00:00</th>\n",
       "      <th>2022-01-29 12:00:00</th>\n",
       "      <th>2022-01-30 12:00:00</th>\n",
       "      <th>2022-01-31 12:00:00</th>\n",
       "      <th>geometry</th>\n",
       "    </tr>\n",
       "    <tr>\n",
       "      <th>ID</th>\n",
       "      <th></th>\n",
       "      <th></th>\n",
       "      <th></th>\n",
       "      <th></th>\n",
       "      <th></th>\n",
       "      <th></th>\n",
       "      <th></th>\n",
       "      <th></th>\n",
       "      <th></th>\n",
       "      <th></th>\n",
       "      <th></th>\n",
       "      <th></th>\n",
       "      <th></th>\n",
       "      <th></th>\n",
       "      <th></th>\n",
       "      <th></th>\n",
       "      <th></th>\n",
       "      <th></th>\n",
       "      <th></th>\n",
       "      <th></th>\n",
       "      <th></th>\n",
       "    </tr>\n",
       "  </thead>\n",
       "  <tbody>\n",
       "    <tr>\n",
       "      <th>0</th>\n",
       "      <td>0.0</td>\n",
       "      <td>0.0</td>\n",
       "      <td>0.0</td>\n",
       "      <td>0.1875</td>\n",
       "      <td>0.125</td>\n",
       "      <td>0.250</td>\n",
       "      <td>0.000</td>\n",
       "      <td>1.875</td>\n",
       "      <td>0.0</td>\n",
       "      <td>0.0</td>\n",
       "      <td>...</td>\n",
       "      <td>0.000</td>\n",
       "      <td>11.1875</td>\n",
       "      <td>0.000</td>\n",
       "      <td>0.125</td>\n",
       "      <td>0.1250</td>\n",
       "      <td>0.625</td>\n",
       "      <td>1.875</td>\n",
       "      <td>0.250</td>\n",
       "      <td>1.9375</td>\n",
       "      <td>POINT (-36.95000 -10.05000)</td>\n",
       "    </tr>\n",
       "    <tr>\n",
       "      <th>1</th>\n",
       "      <td>0.0</td>\n",
       "      <td>0.0</td>\n",
       "      <td>0.0</td>\n",
       "      <td>0.0625</td>\n",
       "      <td>0.125</td>\n",
       "      <td>4.375</td>\n",
       "      <td>0.500</td>\n",
       "      <td>0.000</td>\n",
       "      <td>0.0</td>\n",
       "      <td>0.0</td>\n",
       "      <td>...</td>\n",
       "      <td>0.125</td>\n",
       "      <td>0.2500</td>\n",
       "      <td>0.250</td>\n",
       "      <td>0.000</td>\n",
       "      <td>0.1875</td>\n",
       "      <td>0.000</td>\n",
       "      <td>10.875</td>\n",
       "      <td>0.625</td>\n",
       "      <td>3.5625</td>\n",
       "      <td>POINT (-37.35000 -9.55000)</td>\n",
       "    </tr>\n",
       "    <tr>\n",
       "      <th>2</th>\n",
       "      <td>0.0</td>\n",
       "      <td>0.0</td>\n",
       "      <td>0.0</td>\n",
       "      <td>0.0000</td>\n",
       "      <td>0.000</td>\n",
       "      <td>10.625</td>\n",
       "      <td>1.500</td>\n",
       "      <td>0.000</td>\n",
       "      <td>0.0</td>\n",
       "      <td>0.0</td>\n",
       "      <td>...</td>\n",
       "      <td>0.000</td>\n",
       "      <td>0.0000</td>\n",
       "      <td>1.125</td>\n",
       "      <td>0.000</td>\n",
       "      <td>0.0625</td>\n",
       "      <td>0.000</td>\n",
       "      <td>21.250</td>\n",
       "      <td>6.375</td>\n",
       "      <td>2.7500</td>\n",
       "      <td>POINT (-37.75000 -9.45000)</td>\n",
       "    </tr>\n",
       "    <tr>\n",
       "      <th>3</th>\n",
       "      <td>0.0</td>\n",
       "      <td>0.0</td>\n",
       "      <td>0.0</td>\n",
       "      <td>0.1875</td>\n",
       "      <td>0.125</td>\n",
       "      <td>0.125</td>\n",
       "      <td>0.125</td>\n",
       "      <td>1.125</td>\n",
       "      <td>0.0</td>\n",
       "      <td>0.0</td>\n",
       "      <td>...</td>\n",
       "      <td>0.000</td>\n",
       "      <td>7.6250</td>\n",
       "      <td>0.000</td>\n",
       "      <td>0.125</td>\n",
       "      <td>0.1875</td>\n",
       "      <td>1.125</td>\n",
       "      <td>2.625</td>\n",
       "      <td>0.250</td>\n",
       "      <td>1.9375</td>\n",
       "      <td>POINT (-37.05000 -9.95000)</td>\n",
       "    </tr>\n",
       "    <tr>\n",
       "      <th>4</th>\n",
       "      <td>0.0</td>\n",
       "      <td>0.0</td>\n",
       "      <td>0.0</td>\n",
       "      <td>0.0625</td>\n",
       "      <td>0.375</td>\n",
       "      <td>0.750</td>\n",
       "      <td>0.375</td>\n",
       "      <td>0.000</td>\n",
       "      <td>0.0</td>\n",
       "      <td>0.0</td>\n",
       "      <td>...</td>\n",
       "      <td>0.000</td>\n",
       "      <td>0.0000</td>\n",
       "      <td>0.000</td>\n",
       "      <td>0.000</td>\n",
       "      <td>1.0000</td>\n",
       "      <td>0.000</td>\n",
       "      <td>12.500</td>\n",
       "      <td>0.125</td>\n",
       "      <td>2.0000</td>\n",
       "      <td>POINT (-37.05000 -9.45000)</td>\n",
       "    </tr>\n",
       "  </tbody>\n",
       "</table>\n",
       "<p>5 rows × 32 columns</p>\n",
       "</div>"
      ]
     },
     "execution_count": 16,
     "metadata": {},
     "output_type": "execute_result"
    }
   ],
   "execution_count": 16
  },
  {
   "cell_type": "markdown",
   "metadata": {},
   "source": [
    "## Obter as 4 estações mais próximas"
   ]
  },
  {
   "cell_type": "code",
   "metadata": {
    "ExecuteTime": {
     "end_time": "2024-08-16T01:16:10.961270Z",
     "start_time": "2024-08-16T01:16:10.926100Z"
    }
   },
   "source": [
    "# Gage stations coordinates (Delmiro Gouveia) for future comparisons\n",
    "lat = -9.3928 \n",
    "lng = -37.9942\n",
    "gage = Point(lng, lat)\n",
    "gdf_gage = gpd.GeoDataFrame(data=[] ,geometry=[gage])\n",
    "gdf_gage"
   ],
   "outputs": [
    {
     "data": {
      "text/plain": [
       "                     geometry\n",
       "0  POINT (-37.99420 -9.39280)"
      ],
      "text/html": [
       "<div>\n",
       "<style scoped>\n",
       "    .dataframe tbody tr th:only-of-type {\n",
       "        vertical-align: middle;\n",
       "    }\n",
       "\n",
       "    .dataframe tbody tr th {\n",
       "        vertical-align: top;\n",
       "    }\n",
       "\n",
       "    .dataframe thead th {\n",
       "        text-align: right;\n",
       "    }\n",
       "</style>\n",
       "<table border=\"1\" class=\"dataframe\">\n",
       "  <thead>\n",
       "    <tr style=\"text-align: right;\">\n",
       "      <th></th>\n",
       "      <th>geometry</th>\n",
       "    </tr>\n",
       "  </thead>\n",
       "  <tbody>\n",
       "    <tr>\n",
       "      <th>0</th>\n",
       "      <td>POINT (-37.99420 -9.39280)</td>\n",
       "    </tr>\n",
       "  </tbody>\n",
       "</table>\n",
       "</div>"
      ]
     },
     "execution_count": 17,
     "metadata": {},
     "output_type": "execute_result"
    }
   ],
   "execution_count": 17
  },
  {
   "cell_type": "code",
   "metadata": {
    "ExecuteTime": {
     "end_time": "2024-08-16T01:16:11.869101Z",
     "start_time": "2024-08-16T01:16:10.962276Z"
    }
   },
   "source": [
    "# Plot map\n",
    "fig, ax = plt.subplots(figsize=(12, 8))\n",
    "\n",
    "gdf_sertao.plot(alpha=.5,\n",
    "                color='g',\n",
    "                edgecolor='black',\n",
    "                ax=ax)\n",
    "\n",
    "prec_clip.plot(color='blue',\n",
    "               ax=ax,\n",
    "               alpha=.6,\n",
    "               edgecolor='black')\n",
    "\n",
    "gdf_gage.plot(color='yellow',\n",
    "          edgecolor='black',\n",
    "          ax=ax)\n",
    "\n",
    "plt.grid(visible=True)\n",
    "plt.show()"
   ],
   "outputs": [
    {
     "data": {
      "text/plain": [
       "<Figure size 1200x800 with 1 Axes>"
      ],
      "image/png": "[encoded data removed]"
     },
     "metadata": {},
     "output_type": "display_data"
    }
   ],
   "execution_count": 18
  },
  {
   "cell_type": "code",
   "metadata": {
    "ExecuteTime": {
     "end_time": "2024-08-16T01:16:11.878935Z",
     "start_time": "2024-08-16T01:16:11.871629Z"
    }
   },
   "source": [
    "# Euclidian distance function\n",
    "import numpy as np\n",
    "\n",
    "def euclidian_distance(ref_point, virtual_point):\n",
    "    dist = np.sqrt((ref_point['geometry'].x[0] - virtual_point[-1].x) ** 2 + (ref_point['geometry'].y[0] - virtual_point[-1].y) ** 2)\n",
    "    return dist"
   ],
   "outputs": [],
   "execution_count": 19
  },
  {
   "cell_type": "code",
   "metadata": {
    "ExecuteTime": {
     "end_time": "2024-08-16T01:16:11.931912Z",
     "start_time": "2024-08-16T01:16:11.879942Z"
    }
   },
   "source": [
    "# Compute distance\n",
    "for rows in prec_Series.itertuples():\n",
    "    d = euclidian_distance(gdf_gage, rows)\n",
    "    prec_Series.loc[rows[0], 'distance'] = d"
   ],
   "outputs": [],
   "execution_count": 20
  },
  {
   "cell_type": "code",
   "metadata": {
    "ExecuteTime": {
     "end_time": "2024-08-16T01:16:11.958908Z",
     "start_time": "2024-08-16T01:16:11.933922Z"
    }
   },
   "source": [
    "# 4 Closest gage stations\n",
    "prec_closest = prec_Series.sort_values(by='distance', ascending=True)[:4]\n",
    "prec_closest"
   ],
   "outputs": [
    {
     "data": {
      "text/plain": [
       "valid_time  2022-01-01 12:00:00  2022-01-02 12:00:00  2022-01-03 12:00:00  \\\n",
       "ID                                                                          \n",
       "43                          0.0                  0.0                  0.0   \n",
       "34                          0.0                  0.0                  0.0   \n",
       "37                          0.0                  0.0                  0.0   \n",
       "19                          0.0                  0.0                  0.0   \n",
       "\n",
       "valid_time  2022-01-04 12:00:00  2022-01-05 12:00:00  2022-01-06 12:00:00  \\\n",
       "ID                                                                          \n",
       "43                          0.0                  0.0                15.50   \n",
       "34                          0.0                  0.0                11.25   \n",
       "37                          0.0                  0.0                11.00   \n",
       "19                          0.0                  0.0                 8.25   \n",
       "\n",
       "valid_time  2022-01-07 12:00:00  2022-01-08 12:00:00  2022-01-09 12:00:00  \\\n",
       "ID                                                                          \n",
       "43                        2.125                  0.0                  0.0   \n",
       "34                        3.625                  0.0                  0.0   \n",
       "37                        1.875                  0.0                  0.0   \n",
       "19                        2.500                  0.0                  0.0   \n",
       "\n",
       "valid_time  2022-01-10 12:00:00  ...  2022-01-24 12:00:00  \\\n",
       "ID                               ...                        \n",
       "43                          0.0  ...                  0.0   \n",
       "34                          0.0  ...                  0.0   \n",
       "37                          0.0  ...                  0.0   \n",
       "19                          0.0  ...                  0.0   \n",
       "\n",
       "valid_time  2022-01-25 12:00:00  2022-01-26 12:00:00  2022-01-27 12:00:00  \\\n",
       "ID                                                                          \n",
       "43                        0.625                  0.0               0.0625   \n",
       "34                        2.375                  0.0               0.1250   \n",
       "37                        1.125                  0.0               0.0625   \n",
       "19                        2.000                  0.0               0.1250   \n",
       "\n",
       "valid_time  2022-01-28 12:00:00  2022-01-29 12:00:00  2022-01-30 12:00:00  \\\n",
       "ID                                                                          \n",
       "43                          0.0               47.875                9.000   \n",
       "34                          0.0               36.750                7.500   \n",
       "37                          0.0               34.625                9.125   \n",
       "19                          0.0               30.875                8.125   \n",
       "\n",
       "valid_time  2022-01-31 12:00:00                    geometry  distance  \n",
       "ID                                                                     \n",
       "43                       3.2500  POINT (-37.95000 -9.35000)  0.061526  \n",
       "34                       1.8125  POINT (-38.05000 -9.35000)  0.070324  \n",
       "37                       2.3750  POINT (-37.95000 -9.45000)  0.072287  \n",
       "19                       1.5625  POINT (-38.05000 -9.45000)  0.079909  \n",
       "\n",
       "[4 rows x 33 columns]"
      ],
      "text/html": [
       "<div>\n",
       "<style scoped>\n",
       "    .dataframe tbody tr th:only-of-type {\n",
       "        vertical-align: middle;\n",
       "    }\n",
       "\n",
       "    .dataframe tbody tr th {\n",
       "        vertical-align: top;\n",
       "    }\n",
       "\n",
       "    .dataframe thead th {\n",
       "        text-align: right;\n",
       "    }\n",
       "</style>\n",
       "<table border=\"1\" class=\"dataframe\">\n",
       "  <thead>\n",
       "    <tr style=\"text-align: right;\">\n",
       "      <th>valid_time</th>\n",
       "      <th>2022-01-01 12:00:00</th>\n",
       "      <th>2022-01-02 12:00:00</th>\n",
       "      <th>2022-01-03 12:00:00</th>\n",
       "      <th>2022-01-04 12:00:00</th>\n",
       "      <th>2022-01-05 12:00:00</th>\n",
       "      <th>2022-01-06 12:00:00</th>\n",
       "      <th>2022-01-07 12:00:00</th>\n",
       "      <th>2022-01-08 12:00:00</th>\n",
       "      <th>2022-01-09 12:00:00</th>\n",
       "      <th>2022-01-10 12:00:00</th>\n",
       "      <th>...</th>\n",
       "      <th>2022-01-24 12:00:00</th>\n",
       "      <th>2022-01-25 12:00:00</th>\n",
       "      <th>2022-01-26 12:00:00</th>\n",
       "      <th>2022-01-27 12:00:00</th>\n",
       "      <th>2022-01-28 12:00:00</th>\n",
       "      <th>2022-01-29 12:00:00</th>\n",
       "      <th>2022-01-30 12:00:00</th>\n",
       "      <th>2022-01-31 12:00:00</th>\n",
       "      <th>geometry</th>\n",
       "      <th>distance</th>\n",
       "    </tr>\n",
       "    <tr>\n",
       "      <th>ID</th>\n",
       "      <th></th>\n",
       "      <th></th>\n",
       "      <th></th>\n",
       "      <th></th>\n",
       "      <th></th>\n",
       "      <th></th>\n",
       "      <th></th>\n",
       "      <th></th>\n",
       "      <th></th>\n",
       "      <th></th>\n",
       "      <th></th>\n",
       "      <th></th>\n",
       "      <th></th>\n",
       "      <th></th>\n",
       "      <th></th>\n",
       "      <th></th>\n",
       "      <th></th>\n",
       "      <th></th>\n",
       "      <th></th>\n",
       "      <th></th>\n",
       "      <th></th>\n",
       "    </tr>\n",
       "  </thead>\n",
       "  <tbody>\n",
       "    <tr>\n",
       "      <th>43</th>\n",
       "      <td>0.0</td>\n",
       "      <td>0.0</td>\n",
       "      <td>0.0</td>\n",
       "      <td>0.0</td>\n",
       "      <td>0.0</td>\n",
       "      <td>15.50</td>\n",
       "      <td>2.125</td>\n",
       "      <td>0.0</td>\n",
       "      <td>0.0</td>\n",
       "      <td>0.0</td>\n",
       "      <td>...</td>\n",
       "      <td>0.0</td>\n",
       "      <td>0.625</td>\n",
       "      <td>0.0</td>\n",
       "      <td>0.0625</td>\n",
       "      <td>0.0</td>\n",
       "      <td>47.875</td>\n",
       "      <td>9.000</td>\n",
       "      <td>3.2500</td>\n",
       "      <td>POINT (-37.95000 -9.35000)</td>\n",
       "      <td>0.061526</td>\n",
       "    </tr>\n",
       "    <tr>\n",
       "      <th>34</th>\n",
       "      <td>0.0</td>\n",
       "      <td>0.0</td>\n",
       "      <td>0.0</td>\n",
       "      <td>0.0</td>\n",
       "      <td>0.0</td>\n",
       "      <td>11.25</td>\n",
       "      <td>3.625</td>\n",
       "      <td>0.0</td>\n",
       "      <td>0.0</td>\n",
       "      <td>0.0</td>\n",
       "      <td>...</td>\n",
       "      <td>0.0</td>\n",
       "      <td>2.375</td>\n",
       "      <td>0.0</td>\n",
       "      <td>0.1250</td>\n",
       "      <td>0.0</td>\n",
       "      <td>36.750</td>\n",
       "      <td>7.500</td>\n",
       "      <td>1.8125</td>\n",
       "      <td>POINT (-38.05000 -9.35000)</td>\n",
       "      <td>0.070324</td>\n",
       "    </tr>\n",
       "    <tr>\n",
       "      <th>37</th>\n",
       "      <td>0.0</td>\n",
       "      <td>0.0</td>\n",
       "      <td>0.0</td>\n",
       "      <td>0.0</td>\n",
       "      <td>0.0</td>\n",
       "      <td>11.00</td>\n",
       "      <td>1.875</td>\n",
       "      <td>0.0</td>\n",
       "      <td>0.0</td>\n",
       "      <td>0.0</td>\n",
       "      <td>...</td>\n",
       "      <td>0.0</td>\n",
       "      <td>1.125</td>\n",
       "      <td>0.0</td>\n",
       "      <td>0.0625</td>\n",
       "      <td>0.0</td>\n",
       "      <td>34.625</td>\n",
       "      <td>9.125</td>\n",
       "      <td>2.3750</td>\n",
       "      <td>POINT (-37.95000 -9.45000)</td>\n",
       "      <td>0.072287</td>\n",
       "    </tr>\n",
       "    <tr>\n",
       "      <th>19</th>\n",
       "      <td>0.0</td>\n",
       "      <td>0.0</td>\n",
       "      <td>0.0</td>\n",
       "      <td>0.0</td>\n",
       "      <td>0.0</td>\n",
       "      <td>8.25</td>\n",
       "      <td>2.500</td>\n",
       "      <td>0.0</td>\n",
       "      <td>0.0</td>\n",
       "      <td>0.0</td>\n",
       "      <td>...</td>\n",
       "      <td>0.0</td>\n",
       "      <td>2.000</td>\n",
       "      <td>0.0</td>\n",
       "      <td>0.1250</td>\n",
       "      <td>0.0</td>\n",
       "      <td>30.875</td>\n",
       "      <td>8.125</td>\n",
       "      <td>1.5625</td>\n",
       "      <td>POINT (-38.05000 -9.45000)</td>\n",
       "      <td>0.079909</td>\n",
       "    </tr>\n",
       "  </tbody>\n",
       "</table>\n",
       "<p>4 rows × 33 columns</p>\n",
       "</div>"
      ]
     },
     "execution_count": 21,
     "metadata": {},
     "output_type": "execute_result"
    }
   ],
   "execution_count": 21
  },
  {
   "cell_type": "code",
   "metadata": {
    "ExecuteTime": {
     "end_time": "2024-08-16T01:19:07.695596Z",
     "start_time": "2024-08-16T01:19:07.403714Z"
    }
   },
   "source": [
    "# Plot map\n",
    "fig, ax = plt.subplots(figsize=(12, 8))\n",
    "\n",
    "gdf_sertao.plot(alpha=.5,\n",
    "                color='g',\n",
    "                edgecolor='black',\n",
    "                ax=ax)\n",
    "\n",
    "prec_closest.plot(color='blue',\n",
    "               ax=ax,\n",
    "               alpha=.6,\n",
    "               edgecolor='black', label=\"Centro geométricos das células\")\n",
    "\n",
    "gdf_gage.plot(color='yellow',\n",
    "          edgecolor='black',\n",
    "          ax=ax, label=\"Estação virtual\")\n",
    "\n",
    "plt.legend()\n",
    "plt.show()"
   ],
   "outputs": [
    {
     "data": {
      "text/plain": [
       "<Figure size 1200x800 with 1 Axes>"
      ],
      "image/png": "[encoded data removed]"
     },
     "metadata": {},
     "output_type": "display_data"
    }
   ],
   "execution_count": 25
  },
  {
   "cell_type": "markdown",
   "metadata": {},
   "source": [
    "# Realizar uma interpolação bilinear"
   ]
  },
  {
   "cell_type": "code",
   "metadata": {
    "ExecuteTime": {
     "end_time": "2024-07-04T22:15:17.596951Z",
     "start_time": "2024-07-04T22:15:17.589211Z"
    }
   },
   "source": [
    "# Bilinear interpolation function\n",
    "def bilinear_interpolation(long_coord, lat_coord, coords):\n",
    "    \"\"\"Interpolate (x,y) from values associated with four points.\n",
    "\n",
    "    The four points are a list of four triplets:  (x, y, value).\n",
    "    The four points can be in any order.  They should form a rectangle.\n",
    "\n",
    "        >>> bilinear_interpolation(12, 5.5,\n",
    "        ...                        [(10, 4, 100),\n",
    "        ...                         (20, 4, 200),\n",
    "        ...                         (10, 6, 150),\n",
    "        ...                         (20, 6, 300)])\n",
    "        165.0\n",
    "\n",
    "    \"\"\"\n",
    "\n",
    "    coords = sorted(coords)               # order points by x, then by y\n",
    "    (x1, y1, q11), (_x1, y2, q12), (x2, _y1, q21), (_x2, _y2, q22) = coords\n",
    "\n",
    "    if x1 != _x1 or x2 != _x2 or y1 != _y1 or y2 != _y2:\n",
    "        raise ValueError('points do not form a rectangle')\n",
    "    if not x1 <= long_coord <= x2 or not y1 <= lat_coord <= y2:\n",
    "        raise ValueError('(x, y) not within the rectangle')\n",
    "\n",
    "    return (q11 * (x2 - long_coord) * (y2 - lat_coord) +\n",
    "            q21 * (long_coord - x1) * (y2 - lat_coord) +\n",
    "            q12 * (x2 - long_coord) * (lat_coord - y1) +\n",
    "            q22 * (long_coord - x1) * (lat_coord - y1)\n",
    "           ) / ((x2 - x1) * (y2 - y1) + 0.0)"
   ],
   "outputs": [],
   "execution_count": 110
  },
  {
   "cell_type": "code",
   "metadata": {
    "ExecuteTime": {
     "end_time": "2024-07-04T22:15:17.609052Z",
     "start_time": "2024-07-04T22:15:17.598959Z"
    }
   },
   "source": [
    "# Organize arguments\n",
    "x = gdf_gage['geometry'].x[0]\n",
    "y = gdf_gage['geometry'].y[0]\n",
    "coords = []\n",
    "\n",
    "rainfall_gage = pd.DataFrame(index=[prec_closest.columns[:-2]], columns=['rain(mm)'])"
   ],
   "outputs": [],
   "execution_count": 111
  },
  {
   "metadata": {
    "ExecuteTime": {
     "end_time": "2024-07-04T22:15:17.667778Z",
     "start_time": "2024-07-04T22:15:17.611059Z"
    }
   },
   "cell_type": "code",
   "source": [
    "# Interpolate values and set the series\n",
    "for d in range(prec_closest.shape[1] - 2):\n",
    "    p1 = (prec_closest.iloc[0].loc['geometry'].x, prec_closest.iloc[0].loc['geometry'].y, prec_closest.iloc[0].iloc[d])\n",
    "    p2 = (prec_closest.iloc[1].loc['geometry'].x, prec_closest.iloc[1].loc['geometry'].y, prec_closest.iloc[1].iloc[d])\n",
    "    p3 = (prec_closest.iloc[2].loc['geometry'].x, prec_closest.iloc[2].loc['geometry'].y, prec_closest.iloc[2].iloc[d])\n",
    "    p4 = (prec_closest.iloc[3].loc['geometry'].x, prec_closest.iloc[3].loc['geometry'].y, prec_closest.iloc[3].iloc[d])\n",
    "    \n",
    "    coords = [p1, p2, p3, p4]\n",
    "    \n",
    "    rainfall_gage.loc[rainfall_gage.iloc[d].name, 'rain(mm)'] = bilinear_interpolation(x, y, coords)\n",
    "    "
   ],
   "outputs": [],
   "execution_count": 112
  },
  {
   "metadata": {},
   "cell_type": "markdown",
   "source": "# Comparar valores observados com os estimados"
  },
  {
   "metadata": {
    "ExecuteTime": {
     "end_time": "2024-07-04T22:15:19.304549Z",
     "start_time": "2024-07-04T22:15:17.669786Z"
    }
   },
   "cell_type": "code",
   "source": [
    "# Load the observed data\n",
    "observed_data = pd.read_excel(io=\"D:\\Pesquisa\\PIBIC_23-24\\Estacoes\\Estacoes_SIGA\\DELMIRO_GOUVEIA.xlsx\", header=6, index_col=1)\n",
    "observed_data.drop(labels=['Unnamed: 0'], axis=1, inplace=True)\n",
    "observed_data"
   ],
   "outputs": [
    {
     "data": {
      "text/plain": [
       "            Precipitação\n",
       "Data                    \n",
       "1936-04-01           0.0\n",
       "1936-04-02           0.0\n",
       "1936-04-03           0.0\n",
       "1936-04-04           0.0\n",
       "1936-04-05           0.0\n",
       "...                  ...\n",
       "2023-06-26           1.7\n",
       "2023-06-27           0.0\n",
       "2023-06-28           4.7\n",
       "2023-06-29           3.1\n",
       "2023-06-30           0.0\n",
       "\n",
       "[30297 rows x 1 columns]"
      ],
      "text/html": [
       "<div>\n",
       "<style scoped>\n",
       "    .dataframe tbody tr th:only-of-type {\n",
       "        vertical-align: middle;\n",
       "    }\n",
       "\n",
       "    .dataframe tbody tr th {\n",
       "        vertical-align: top;\n",
       "    }\n",
       "\n",
       "    .dataframe thead th {\n",
       "        text-align: right;\n",
       "    }\n",
       "</style>\n",
       "<table border=\"1\" class=\"dataframe\">\n",
       "  <thead>\n",
       "    <tr style=\"text-align: right;\">\n",
       "      <th></th>\n",
       "      <th>Precipitação</th>\n",
       "    </tr>\n",
       "    <tr>\n",
       "      <th>Data</th>\n",
       "      <th></th>\n",
       "    </tr>\n",
       "  </thead>\n",
       "  <tbody>\n",
       "    <tr>\n",
       "      <th>1936-04-01</th>\n",
       "      <td>0.0</td>\n",
       "    </tr>\n",
       "    <tr>\n",
       "      <th>1936-04-02</th>\n",
       "      <td>0.0</td>\n",
       "    </tr>\n",
       "    <tr>\n",
       "      <th>1936-04-03</th>\n",
       "      <td>0.0</td>\n",
       "    </tr>\n",
       "    <tr>\n",
       "      <th>1936-04-04</th>\n",
       "      <td>0.0</td>\n",
       "    </tr>\n",
       "    <tr>\n",
       "      <th>1936-04-05</th>\n",
       "      <td>0.0</td>\n",
       "    </tr>\n",
       "    <tr>\n",
       "      <th>...</th>\n",
       "      <td>...</td>\n",
       "    </tr>\n",
       "    <tr>\n",
       "      <th>2023-06-26</th>\n",
       "      <td>1.7</td>\n",
       "    </tr>\n",
       "    <tr>\n",
       "      <th>2023-06-27</th>\n",
       "      <td>0.0</td>\n",
       "    </tr>\n",
       "    <tr>\n",
       "      <th>2023-06-28</th>\n",
       "      <td>4.7</td>\n",
       "    </tr>\n",
       "    <tr>\n",
       "      <th>2023-06-29</th>\n",
       "      <td>3.1</td>\n",
       "    </tr>\n",
       "    <tr>\n",
       "      <th>2023-06-30</th>\n",
       "      <td>0.0</td>\n",
       "    </tr>\n",
       "  </tbody>\n",
       "</table>\n",
       "<p>30297 rows × 1 columns</p>\n",
       "</div>"
      ]
     },
     "execution_count": 113,
     "metadata": {},
     "output_type": "execute_result"
    }
   ],
   "execution_count": 113
  },
  {
   "metadata": {
    "ExecuteTime": {
     "end_time": "2024-07-04T22:15:19.325590Z",
     "start_time": "2024-07-04T22:15:19.306556Z"
    }
   },
   "cell_type": "code",
   "source": [
    "# Filter the date\n",
    "data_filter = observed_data.loc['2022-01']\n",
    "data_filter"
   ],
   "outputs": [
    {
     "data": {
      "text/plain": [
       "            Precipitação\n",
       "Data                    \n",
       "2022-01-01           0.0\n",
       "2022-01-02           0.0\n",
       "2022-01-03           0.0\n",
       "2022-01-04           0.0\n",
       "2022-01-05           0.0\n",
       "2022-01-06           5.3\n",
       "2022-01-07           7.8\n",
       "2022-01-08           0.0\n",
       "2022-01-09           0.0\n",
       "2022-01-10           0.0\n",
       "2022-01-11           0.0\n",
       "2022-01-12           0.0\n",
       "2022-01-13           0.0\n",
       "2022-01-14           0.0\n",
       "2022-01-15           0.0\n",
       "2022-01-16           0.0\n",
       "2022-01-17           0.0\n",
       "2022-01-18           0.0\n",
       "2022-01-19           0.0\n",
       "2022-01-20           0.0\n",
       "2022-01-21           0.0\n",
       "2022-01-22           0.0\n",
       "2022-01-23           0.0\n",
       "2022-01-24           0.0\n",
       "2022-01-25           0.0\n",
       "2022-01-26           0.0\n",
       "2022-01-27           0.0\n",
       "2022-01-28           0.0\n",
       "2022-01-29           9.6\n",
       "2022-01-30           0.3\n",
       "2022-01-31           0.0"
      ],
      "text/html": [
       "<div>\n",
       "<style scoped>\n",
       "    .dataframe tbody tr th:only-of-type {\n",
       "        vertical-align: middle;\n",
       "    }\n",
       "\n",
       "    .dataframe tbody tr th {\n",
       "        vertical-align: top;\n",
       "    }\n",
       "\n",
       "    .dataframe thead th {\n",
       "        text-align: right;\n",
       "    }\n",
       "</style>\n",
       "<table border=\"1\" class=\"dataframe\">\n",
       "  <thead>\n",
       "    <tr style=\"text-align: right;\">\n",
       "      <th></th>\n",
       "      <th>Precipitação</th>\n",
       "    </tr>\n",
       "    <tr>\n",
       "      <th>Data</th>\n",
       "      <th></th>\n",
       "    </tr>\n",
       "  </thead>\n",
       "  <tbody>\n",
       "    <tr>\n",
       "      <th>2022-01-01</th>\n",
       "      <td>0.0</td>\n",
       "    </tr>\n",
       "    <tr>\n",
       "      <th>2022-01-02</th>\n",
       "      <td>0.0</td>\n",
       "    </tr>\n",
       "    <tr>\n",
       "      <th>2022-01-03</th>\n",
       "      <td>0.0</td>\n",
       "    </tr>\n",
       "    <tr>\n",
       "      <th>2022-01-04</th>\n",
       "      <td>0.0</td>\n",
       "    </tr>\n",
       "    <tr>\n",
       "      <th>2022-01-05</th>\n",
       "      <td>0.0</td>\n",
       "    </tr>\n",
       "    <tr>\n",
       "      <th>2022-01-06</th>\n",
       "      <td>5.3</td>\n",
       "    </tr>\n",
       "    <tr>\n",
       "      <th>2022-01-07</th>\n",
       "      <td>7.8</td>\n",
       "    </tr>\n",
       "    <tr>\n",
       "      <th>2022-01-08</th>\n",
       "      <td>0.0</td>\n",
       "    </tr>\n",
       "    <tr>\n",
       "      <th>2022-01-09</th>\n",
       "      <td>0.0</td>\n",
       "    </tr>\n",
       "    <tr>\n",
       "      <th>2022-01-10</th>\n",
       "      <td>0.0</td>\n",
       "    </tr>\n",
       "    <tr>\n",
       "      <th>2022-01-11</th>\n",
       "      <td>0.0</td>\n",
       "    </tr>\n",
       "    <tr>\n",
       "      <th>2022-01-12</th>\n",
       "      <td>0.0</td>\n",
       "    </tr>\n",
       "    <tr>\n",
       "      <th>2022-01-13</th>\n",
       "      <td>0.0</td>\n",
       "    </tr>\n",
       "    <tr>\n",
       "      <th>2022-01-14</th>\n",
       "      <td>0.0</td>\n",
       "    </tr>\n",
       "    <tr>\n",
       "      <th>2022-01-15</th>\n",
       "      <td>0.0</td>\n",
       "    </tr>\n",
       "    <tr>\n",
       "      <th>2022-01-16</th>\n",
       "      <td>0.0</td>\n",
       "    </tr>\n",
       "    <tr>\n",
       "      <th>2022-01-17</th>\n",
       "      <td>0.0</td>\n",
       "    </tr>\n",
       "    <tr>\n",
       "      <th>2022-01-18</th>\n",
       "      <td>0.0</td>\n",
       "    </tr>\n",
       "    <tr>\n",
       "      <th>2022-01-19</th>\n",
       "      <td>0.0</td>\n",
       "    </tr>\n",
       "    <tr>\n",
       "      <th>2022-01-20</th>\n",
       "      <td>0.0</td>\n",
       "    </tr>\n",
       "    <tr>\n",
       "      <th>2022-01-21</th>\n",
       "      <td>0.0</td>\n",
       "    </tr>\n",
       "    <tr>\n",
       "      <th>2022-01-22</th>\n",
       "      <td>0.0</td>\n",
       "    </tr>\n",
       "    <tr>\n",
       "      <th>2022-01-23</th>\n",
       "      <td>0.0</td>\n",
       "    </tr>\n",
       "    <tr>\n",
       "      <th>2022-01-24</th>\n",
       "      <td>0.0</td>\n",
       "    </tr>\n",
       "    <tr>\n",
       "      <th>2022-01-25</th>\n",
       "      <td>0.0</td>\n",
       "    </tr>\n",
       "    <tr>\n",
       "      <th>2022-01-26</th>\n",
       "      <td>0.0</td>\n",
       "    </tr>\n",
       "    <tr>\n",
       "      <th>2022-01-27</th>\n",
       "      <td>0.0</td>\n",
       "    </tr>\n",
       "    <tr>\n",
       "      <th>2022-01-28</th>\n",
       "      <td>0.0</td>\n",
       "    </tr>\n",
       "    <tr>\n",
       "      <th>2022-01-29</th>\n",
       "      <td>9.6</td>\n",
       "    </tr>\n",
       "    <tr>\n",
       "      <th>2022-01-30</th>\n",
       "      <td>0.3</td>\n",
       "    </tr>\n",
       "    <tr>\n",
       "      <th>2022-01-31</th>\n",
       "      <td>0.0</td>\n",
       "    </tr>\n",
       "  </tbody>\n",
       "</table>\n",
       "</div>"
      ]
     },
     "execution_count": 114,
     "metadata": {},
     "output_type": "execute_result"
    }
   ],
   "execution_count": 114
  },
  {
   "metadata": {
    "ExecuteTime": {
     "end_time": "2024-07-04T22:15:19.333376Z",
     "start_time": "2024-07-04T22:15:19.326596Z"
    }
   },
   "cell_type": "code",
   "source": [
    "# Convert rainfall_gage index for datetime\n",
    "time_rainfall_gage = [rainfall_gage.index[i][0] for i in range(len(rainfall_gage.index))]\n",
    "rainfall_gage.index = time_rainfall_gage\n",
    "type(rainfall_gage.index)"
   ],
   "outputs": [
    {
     "data": {
      "text/plain": [
       "pandas.core.indexes.datetimes.DatetimeIndex"
      ]
     },
     "execution_count": 115,
     "metadata": {},
     "output_type": "execute_result"
    }
   ],
   "execution_count": 115
  },
  {
   "metadata": {
    "ExecuteTime": {
     "end_time": "2024-07-04T22:17:16.213400Z",
     "start_time": "2024-07-04T22:17:16.176667Z"
    }
   },
   "cell_type": "code",
   "source": [
    "# Export the estimated data\n",
    "rainfall_gage.to_excel(\"D:/Pesquisa/PIBIC_23-24/Dados_GPM/Exports/rain_12_2022.xlsx\")"
   ],
   "outputs": [],
   "execution_count": 116
  },
  {
   "metadata": {
    "ExecuteTime": {
     "end_time": "2024-06-21T21:40:47.085290Z",
     "start_time": "2024-06-21T21:40:46.853224Z"
    }
   },
   "cell_type": "code",
   "source": [
    "# Plot the rainfall\n",
    "plt.plot(rainfall_gage.index, rainfall_gage['rain(mm)'], color='orange')\n",
    "plt.scatter(data_filter.index, data_filter['Precipitação'], color='blue', edgecolor='black', zorder=2)\n",
    "\n",
    "plt.xlabel('Data')\n",
    "plt.ylabel('Chuva (mm)')\n",
    "plt.xticks(rotation=45)\n",
    "plt.legend(['Estimados', 'Observados'])\n",
    "plt.show()"
   ],
   "outputs": [
    {
     "data": {
      "text/plain": [
       "<Figure size 640x480 with 1 Axes>"
      ],
      "image/png": "[encoded data removed]"
     },
     "metadata": {},
     "output_type": "display_data"
    }
   ],
   "execution_count": 29
  },
  {
   "metadata": {},
   "cell_type": "markdown",
   "source": "# Elaborar tabela de contingência"
  },
  {
   "metadata": {
    "ExecuteTime": {
     "end_time": "2024-06-21T21:40:47.098338Z",
     "start_time": "2024-06-21T21:40:47.086299Z"
    }
   },
   "cell_type": "code",
   "source": [
    "# Concat the observed and estimated values\n",
    "rainfall = pd.DataFrame(data={'Observed_(mm)': data_filter['Precipitação'], 'Estimated_(mm)': rainfall_gage['rain(mm)'].to_list()},\n",
    "                        index=data_filter.index)\n",
    "rainfall.head()"
   ],
   "outputs": [
    {
     "data": {
      "text/plain": [
       "            Observed_(mm)  Estimated_(mm)\n",
       "Data                                     \n",
       "2022-01-01            0.0             0.0\n",
       "2022-01-02            0.0             0.0\n",
       "2022-01-03            0.0             0.0\n",
       "2022-01-04            0.0             0.0\n",
       "2022-01-05            0.0             0.0"
      ],
      "text/html": [
       "<div>\n",
       "<style scoped>\n",
       "    .dataframe tbody tr th:only-of-type {\n",
       "        vertical-align: middle;\n",
       "    }\n",
       "\n",
       "    .dataframe tbody tr th {\n",
       "        vertical-align: top;\n",
       "    }\n",
       "\n",
       "    .dataframe thead th {\n",
       "        text-align: right;\n",
       "    }\n",
       "</style>\n",
       "<table border=\"1\" class=\"dataframe\">\n",
       "  <thead>\n",
       "    <tr style=\"text-align: right;\">\n",
       "      <th></th>\n",
       "      <th>Observed_(mm)</th>\n",
       "      <th>Estimated_(mm)</th>\n",
       "    </tr>\n",
       "    <tr>\n",
       "      <th>Data</th>\n",
       "      <th></th>\n",
       "      <th></th>\n",
       "    </tr>\n",
       "  </thead>\n",
       "  <tbody>\n",
       "    <tr>\n",
       "      <th>2022-01-01</th>\n",
       "      <td>0.0</td>\n",
       "      <td>0.0</td>\n",
       "    </tr>\n",
       "    <tr>\n",
       "      <th>2022-01-02</th>\n",
       "      <td>0.0</td>\n",
       "      <td>0.0</td>\n",
       "    </tr>\n",
       "    <tr>\n",
       "      <th>2022-01-03</th>\n",
       "      <td>0.0</td>\n",
       "      <td>0.0</td>\n",
       "    </tr>\n",
       "    <tr>\n",
       "      <th>2022-01-04</th>\n",
       "      <td>0.0</td>\n",
       "      <td>0.0</td>\n",
       "    </tr>\n",
       "    <tr>\n",
       "      <th>2022-01-05</th>\n",
       "      <td>0.0</td>\n",
       "      <td>0.0</td>\n",
       "    </tr>\n",
       "  </tbody>\n",
       "</table>\n",
       "</div>"
      ]
     },
     "execution_count": 30,
     "metadata": {},
     "output_type": "execute_result"
    }
   ],
   "execution_count": 30
  },
  {
   "metadata": {
    "ExecuteTime": {
     "end_time": "2024-06-21T21:40:47.107571Z",
     "start_time": "2024-06-21T21:40:47.099347Z"
    }
   },
   "cell_type": "code",
   "source": [
    "# Get binary values for rain\n",
    "rainfall.loc[rainfall['Observed_(mm)'] == 0, 'Observed_(mm)'] = 0\n",
    "rainfall.loc[rainfall['Observed_(mm)'] > 0, 'Observed_(mm)'] = 1\n",
    "rainfall.loc[rainfall['Estimated_(mm)'] == 0, 'Estimated_(mm)'] = 0\n",
    "rainfall.loc[rainfall['Estimated_(mm)'] > 0, 'Estimated_(mm)'] = 1"
   ],
   "outputs": [],
   "execution_count": 31
  },
  {
   "metadata": {
    "ExecuteTime": {
     "end_time": "2024-06-21T21:40:47.129754Z",
     "start_time": "2024-06-21T21:40:47.108579Z"
    }
   },
   "cell_type": "code",
   "source": [
    "# Elaborate cross table\n",
    "pd.crosstab(index=rainfall['Observed_(mm)'], columns=rainfall['Estimated_(mm)'])"
   ],
   "outputs": [
    {
     "data": {
      "text/plain": [
       "Estimated_(mm)  0.0  1.0\n",
       "Observed_(mm)           \n",
       "0.0              20    7\n",
       "1.0               0    4"
      ],
      "text/html": [
       "<div>\n",
       "<style scoped>\n",
       "    .dataframe tbody tr th:only-of-type {\n",
       "        vertical-align: middle;\n",
       "    }\n",
       "\n",
       "    .dataframe tbody tr th {\n",
       "        vertical-align: top;\n",
       "    }\n",
       "\n",
       "    .dataframe thead th {\n",
       "        text-align: right;\n",
       "    }\n",
       "</style>\n",
       "<table border=\"1\" class=\"dataframe\">\n",
       "  <thead>\n",
       "    <tr style=\"text-align: right;\">\n",
       "      <th>Estimated_(mm)</th>\n",
       "      <th>0.0</th>\n",
       "      <th>1.0</th>\n",
       "    </tr>\n",
       "    <tr>\n",
       "      <th>Observed_(mm)</th>\n",
       "      <th></th>\n",
       "      <th></th>\n",
       "    </tr>\n",
       "  </thead>\n",
       "  <tbody>\n",
       "    <tr>\n",
       "      <th>0.0</th>\n",
       "      <td>20</td>\n",
       "      <td>7</td>\n",
       "    </tr>\n",
       "    <tr>\n",
       "      <th>1.0</th>\n",
       "      <td>0</td>\n",
       "      <td>4</td>\n",
       "    </tr>\n",
       "  </tbody>\n",
       "</table>\n",
       "</div>"
      ]
     },
     "execution_count": 32,
     "metadata": {},
     "output_type": "execute_result"
    }
   ],
   "execution_count": 32
  },
  {
   "metadata": {},
   "cell_type": "markdown",
   "source": "# Create chart"
  },
  {
   "metadata": {
    "ExecuteTime": {
     "end_time": "2024-08-02T02:20:43.720373Z",
     "start_time": "2024-08-02T02:20:43.640056Z"
    }
   },
   "cell_type": "code",
   "source": [
    "# Load data\n",
    "import pandas as pd\n",
    "\n",
    "data = pd.read_excel(io=\"D:/Pesquisa/PIBIC_23-24/Dados_GPM/Exports/rain_GPM_2022_Delmiro.xlsx\",\n",
    "                     usecols=\"A:C\",\n",
    "                     index_col=\"Data\")"
   ],
   "outputs": [],
   "execution_count": 10
  },
  {
   "metadata": {
    "ExecuteTime": {
     "end_time": "2024-08-02T02:22:19.218707Z",
     "start_time": "2024-08-02T02:22:19.209537Z"
    }
   },
   "cell_type": "code",
   "source": "data.head()",
   "outputs": [
    {
     "data": {
      "text/plain": [
       "                     Estimado (mm)  Observado (mm)\n",
       "Data                                              \n",
       "2022-01-01 12:00:00            0.0             0.0\n",
       "2022-01-02 12:00:00            0.0             0.0\n",
       "2022-01-03 12:00:00            0.0             0.0\n",
       "2022-01-04 12:00:00            0.0             0.0\n",
       "2022-01-05 12:00:00            0.0             0.0"
      ],
      "text/html": [
       "<div>\n",
       "<style scoped>\n",
       "    .dataframe tbody tr th:only-of-type {\n",
       "        vertical-align: middle;\n",
       "    }\n",
       "\n",
       "    .dataframe tbody tr th {\n",
       "        vertical-align: top;\n",
       "    }\n",
       "\n",
       "    .dataframe thead th {\n",
       "        text-align: right;\n",
       "    }\n",
       "</style>\n",
       "<table border=\"1\" class=\"dataframe\">\n",
       "  <thead>\n",
       "    <tr style=\"text-align: right;\">\n",
       "      <th></th>\n",
       "      <th>Estimado (mm)</th>\n",
       "      <th>Observado (mm)</th>\n",
       "    </tr>\n",
       "    <tr>\n",
       "      <th>Data</th>\n",
       "      <th></th>\n",
       "      <th></th>\n",
       "    </tr>\n",
       "  </thead>\n",
       "  <tbody>\n",
       "    <tr>\n",
       "      <th>2022-01-01 12:00:00</th>\n",
       "      <td>0.0</td>\n",
       "      <td>0.0</td>\n",
       "    </tr>\n",
       "    <tr>\n",
       "      <th>2022-01-02 12:00:00</th>\n",
       "      <td>0.0</td>\n",
       "      <td>0.0</td>\n",
       "    </tr>\n",
       "    <tr>\n",
       "      <th>2022-01-03 12:00:00</th>\n",
       "      <td>0.0</td>\n",
       "      <td>0.0</td>\n",
       "    </tr>\n",
       "    <tr>\n",
       "      <th>2022-01-04 12:00:00</th>\n",
       "      <td>0.0</td>\n",
       "      <td>0.0</td>\n",
       "    </tr>\n",
       "    <tr>\n",
       "      <th>2022-01-05 12:00:00</th>\n",
       "      <td>0.0</td>\n",
       "      <td>0.0</td>\n",
       "    </tr>\n",
       "  </tbody>\n",
       "</table>\n",
       "</div>"
      ]
     },
     "execution_count": 12,
     "metadata": {},
     "output_type": "execute_result"
    }
   ],
   "execution_count": 12
  },
  {
   "metadata": {
    "ExecuteTime": {
     "end_time": "2024-08-02T02:55:32.051677Z",
     "start_time": "2024-08-02T02:55:31.513057Z"
    }
   },
   "cell_type": "code",
   "source": [
    "import matplotlib.pyplot as plt\n",
    "import numpy as np\n",
    "\n",
    "fig, ax = plt.subplots(nrows=2, ncols=1, figsize=(11, 13))\n",
    "data.plot(ax=ax[0])\n",
    "data.resample(\"ME\").sum().plot(ax=ax[1], kind=\"bar\", edgecolor=\"k\")\n",
    "\n",
    "ax[0].set_ylabel(\"Chuva (mm)\", fontweight=\"bold\")\n",
    "ax[0].set_title(\"Chuva Diária\", fontweight=\"bold\")\n",
    "ax[0].set_xlabel(\"\")\n",
    "\n",
    "ax[1].set_ylabel(\"Chuva (mm)\", fontweight=\"bold\")\n",
    "ax[1].set_title(\"Chuva Acumulada Mensal\", fontweight=\"bold\")\n",
    "ax[1].set_xlabel(\"\")\n",
    "ax[1].set_xticks(ticks=np.arange(12), labels=[\"Janeiro\", \"Fevereiro\", \"Março\", \"Abril\", \"Maio\", \"Junho\", \"Julho\", \"Agosto\", \"Setembro\", \"Outubro\",\n",
    "                         \"Novembro\", \"Dezembro\"])\n",
    "\n",
    "plt.show()"
   ],
   "outputs": [
    {
     "data": {
      "text/plain": [
       "<Figure size 1100x1300 with 2 Axes>"
      ],
      "image/png": "[encoded data removed]"
     },
     "metadata": {},
     "output_type": "display_data"
    }
   ],
   "execution_count": 40
  },
  {
   "metadata": {},
   "cell_type": "code",
   "outputs": [],
   "execution_count": null,
   "source": ""
  }
 ],
 "metadata": {
  "kernelspec": {
   "display_name": "gpm_research",
   "language": "python",
   "name": "python3"
  },
  "language_info": {
   "codemirror_mode": {
    "name": "ipython",
    "version": 3
   },
   "file_extension": ".py",
   "mimetype": "text/x-python",
   "name": "python",
   "nbconvert_exporter": "python",
   "pygments_lexer": "ipython3",
   "version": "3.11.8"
  }
 },
 "nbformat": 4,
 "nbformat_minor": 2
}
