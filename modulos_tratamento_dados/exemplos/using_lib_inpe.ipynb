{
 "cells": [
  {
   "cell_type": "code",
   "execution_count": 2,
   "metadata": {},
   "outputs": [
    {
     "name": "stdout",
     "output_type": "stream",
     "text": [
      "Requirement already satisfied: merge-downloader in c:\\users\\ari\\appdata\\local\\packages\\pythonsoftwarefoundation.python.3.11_qbz5n2kfra8p0\\localcache\\local-packages\\python311\\site-packages (0.0.3)Note: you may need to restart the kernel to use updated packages.\n",
      "\n",
      "Requirement already satisfied: ecmwflibs in c:\\users\\ari\\appdata\\local\\packages\\pythonsoftwarefoundation.python.3.11_qbz5n2kfra8p0\\localcache\\local-packages\\python311\\site-packages (from merge-downloader) (0.5.1)\n",
      "Requirement already satisfied: ecCodes==1.3.1 in c:\\users\\ari\\appdata\\local\\packages\\pythonsoftwarefoundation.python.3.11_qbz5n2kfra8p0\\localcache\\local-packages\\python311\\site-packages (from merge-downloader) (1.3.1)\n",
      "Requirement already satisfied: cfgrib in c:\\users\\ari\\appdata\\local\\packages\\pythonsoftwarefoundation.python.3.11_qbz5n2kfra8p0\\localcache\\local-packages\\python311\\site-packages (from merge-downloader) (0.9.10.4)\n",
      "Requirement already satisfied: geopandas in c:\\users\\ari\\appdata\\local\\packages\\pythonsoftwarefoundation.python.3.11_qbz5n2kfra8p0\\localcache\\local-packages\\python311\\site-packages (from merge-downloader) (0.13.2)\n",
      "Requirement already satisfied: xarray in c:\\users\\ari\\appdata\\local\\packages\\pythonsoftwarefoundation.python.3.11_qbz5n2kfra8p0\\localcache\\local-packages\\python311\\site-packages (from merge-downloader) (2023.12.0)\n",
      "Requirement already satisfied: rasterio in c:\\users\\ari\\appdata\\local\\packages\\pythonsoftwarefoundation.python.3.11_qbz5n2kfra8p0\\localcache\\local-packages\\python311\\site-packages (from merge-downloader) (1.3.9)\n",
      "Requirement already satisfied: rioxarray in c:\\users\\ari\\appdata\\local\\packages\\pythonsoftwarefoundation.python.3.11_qbz5n2kfra8p0\\localcache\\local-packages\\python311\\site-packages (from merge-downloader) (0.15.0)\n",
      "Requirement already satisfied: contextily in c:\\users\\ari\\appdata\\local\\packages\\pythonsoftwarefoundation.python.3.11_qbz5n2kfra8p0\\localcache\\local-packages\\python311\\site-packages (from merge-downloader) (1.4.0)\n",
      "Requirement already satisfied: numpy in c:\\users\\ari\\appdata\\local\\packages\\pythonsoftwarefoundation.python.3.11_qbz5n2kfra8p0\\localcache\\local-packages\\python311\\site-packages (from ecCodes==1.3.1->merge-downloader) (1.25.2)\n",
      "Requirement already satisfied: attrs in c:\\users\\ari\\appdata\\local\\packages\\pythonsoftwarefoundation.python.3.11_qbz5n2kfra8p0\\localcache\\local-packages\\python311\\site-packages (from ecCodes==1.3.1->merge-downloader) (23.1.0)\n",
      "Requirement already satisfied: cffi in c:\\users\\ari\\appdata\\local\\packages\\pythonsoftwarefoundation.python.3.11_qbz5n2kfra8p0\\localcache\\local-packages\\python311\\site-packages (from ecCodes==1.3.1->merge-downloader) (1.16.0)\n",
      "Requirement already satisfied: findlibs in c:\\users\\ari\\appdata\\local\\packages\\pythonsoftwarefoundation.python.3.11_qbz5n2kfra8p0\\localcache\\local-packages\\python311\\site-packages (from ecCodes==1.3.1->merge-downloader) (0.0.5)\n",
      "Requirement already satisfied: click in c:\\users\\ari\\appdata\\local\\packages\\pythonsoftwarefoundation.python.3.11_qbz5n2kfra8p0\\localcache\\local-packages\\python311\\site-packages (from cfgrib->merge-downloader) (8.1.7)\n",
      "Requirement already satisfied: geopy in c:\\users\\ari\\appdata\\local\\packages\\pythonsoftwarefoundation.python.3.11_qbz5n2kfra8p0\\localcache\\local-packages\\python311\\site-packages (from contextily->merge-downloader) (2.4.1)\n",
      "Requirement already satisfied: matplotlib in c:\\users\\ari\\appdata\\local\\packages\\pythonsoftwarefoundation.python.3.11_qbz5n2kfra8p0\\localcache\\local-packages\\python311\\site-packages (from contextily->merge-downloader) (3.8.0)\n",
      "Requirement already satisfied: mercantile in c:\\users\\ari\\appdata\\local\\packages\\pythonsoftwarefoundation.python.3.11_qbz5n2kfra8p0\\localcache\\local-packages\\python311\\site-packages (from contextily->merge-downloader) (1.2.1)\n",
      "Requirement already satisfied: pillow in c:\\users\\ari\\appdata\\local\\packages\\pythonsoftwarefoundation.python.3.11_qbz5n2kfra8p0\\localcache\\local-packages\\python311\\site-packages (from contextily->merge-downloader) (10.0.1)\n",
      "Requirement already satisfied: requests in c:\\users\\ari\\appdata\\local\\packages\\pythonsoftwarefoundation.python.3.11_qbz5n2kfra8p0\\localcache\\local-packages\\python311\\site-packages (from contextily->merge-downloader) (2.31.0)\n",
      "Requirement already satisfied: joblib in c:\\users\\ari\\appdata\\local\\packages\\pythonsoftwarefoundation.python.3.11_qbz5n2kfra8p0\\localcache\\local-packages\\python311\\site-packages (from contextily->merge-downloader) (1.3.2)\n",
      "Requirement already satisfied: xyzservices in c:\\users\\ari\\appdata\\local\\packages\\pythonsoftwarefoundation.python.3.11_qbz5n2kfra8p0\\localcache\\local-packages\\python311\\site-packages (from contextily->merge-downloader) (2023.10.1)\n",
      "Requirement already satisfied: fiona>=1.8.19 in c:\\users\\ari\\appdata\\local\\packages\\pythonsoftwarefoundation.python.3.11_qbz5n2kfra8p0\\localcache\\local-packages\\python311\\site-packages (from geopandas->merge-downloader) (1.9.4.post1)\n",
      "Requirement already satisfied: packaging in c:\\users\\ari\\appdata\\local\\packages\\pythonsoftwarefoundation.python.3.11_qbz5n2kfra8p0\\localcache\\local-packages\\python311\\site-packages (from geopandas->merge-downloader) (23.1)\n",
      "Requirement already satisfied: pandas>=1.1.0 in c:\\users\\ari\\appdata\\local\\packages\\pythonsoftwarefoundation.python.3.11_qbz5n2kfra8p0\\localcache\\local-packages\\python311\\site-packages (from geopandas->merge-downloader) (2.1.0)\n",
      "Requirement already satisfied: pyproj>=3.0.1 in c:\\users\\ari\\appdata\\local\\packages\\pythonsoftwarefoundation.python.3.11_qbz5n2kfra8p0\\localcache\\local-packages\\python311\\site-packages (from geopandas->merge-downloader) (3.6.0)\n",
      "Requirement already satisfied: shapely>=1.7.1 in c:\\users\\ari\\appdata\\local\\packages\\pythonsoftwarefoundation.python.3.11_qbz5n2kfra8p0\\localcache\\local-packages\\python311\\site-packages (from geopandas->merge-downloader) (2.0.1)\n",
      "Requirement already satisfied: affine in c:\\users\\ari\\appdata\\local\\packages\\pythonsoftwarefoundation.python.3.11_qbz5n2kfra8p0\\localcache\\local-packages\\python311\\site-packages (from rasterio->merge-downloader) (2.4.0)\n",
      "Requirement already satisfied: certifi in c:\\users\\ari\\appdata\\local\\packages\\pythonsoftwarefoundation.python.3.11_qbz5n2kfra8p0\\localcache\\local-packages\\python311\\site-packages (from rasterio->merge-downloader) (2023.7.22)\n",
      "Requirement already satisfied: cligj>=0.5 in c:\\users\\ari\\appdata\\local\\packages\\pythonsoftwarefoundation.python.3.11_qbz5n2kfra8p0\\localcache\\local-packages\\python311\\site-packages (from rasterio->merge-downloader) (0.7.2)\n",
      "Requirement already satisfied: snuggs>=1.4.1 in c:\\users\\ari\\appdata\\local\\packages\\pythonsoftwarefoundation.python.3.11_qbz5n2kfra8p0\\localcache\\local-packages\\python311\\site-packages (from rasterio->merge-downloader) (1.4.7)\n",
      "Requirement already satisfied: click-plugins in c:\\users\\ari\\appdata\\local\\packages\\pythonsoftwarefoundation.python.3.11_qbz5n2kfra8p0\\localcache\\local-packages\\python311\\site-packages (from rasterio->merge-downloader) (1.1.1)\n",
      "Requirement already satisfied: setuptools in c:\\program files\\windowsapps\\pythonsoftwarefoundation.python.3.11_3.11.2544.0_x64__qbz5n2kfra8p0\\lib\\site-packages (from rasterio->merge-downloader) (65.5.0)\n",
      "Requirement already satisfied: colorama in c:\\users\\ari\\appdata\\local\\packages\\pythonsoftwarefoundation.python.3.11_qbz5n2kfra8p0\\localcache\\local-packages\\python311\\site-packages (from click->cfgrib->merge-downloader) (0.4.6)\n",
      "Requirement already satisfied: six in c:\\users\\ari\\appdata\\local\\packages\\pythonsoftwarefoundation.python.3.11_qbz5n2kfra8p0\\localcache\\local-packages\\python311\\site-packages (from fiona>=1.8.19->geopandas->merge-downloader) (1.16.0)\n",
      "Requirement already satisfied: python-dateutil>=2.8.2 in c:\\users\\ari\\appdata\\local\\packages\\pythonsoftwarefoundation.python.3.11_qbz5n2kfra8p0\\localcache\\local-packages\\python311\\site-packages (from pandas>=1.1.0->geopandas->merge-downloader) (2.8.2)\n",
      "Requirement already satisfied: pytz>=2020.1 in c:\\users\\ari\\appdata\\local\\packages\\pythonsoftwarefoundation.python.3.11_qbz5n2kfra8p0\\localcache\\local-packages\\python311\\site-packages (from pandas>=1.1.0->geopandas->merge-downloader) (2023.3.post1)\n",
      "Requirement already satisfied: tzdata>=2022.1 in c:\\users\\ari\\appdata\\local\\packages\\pythonsoftwarefoundation.python.3.11_qbz5n2kfra8p0\\localcache\\local-packages\\python311\\site-packages (from pandas>=1.1.0->geopandas->merge-downloader) (2023.3)\n",
      "Requirement already satisfied: pyparsing>=2.1.6 in c:\\users\\ari\\appdata\\local\\packages\\pythonsoftwarefoundation.python.3.11_qbz5n2kfra8p0\\localcache\\local-packages\\python311\\site-packages (from snuggs>=1.4.1->rasterio->merge-downloader) (3.1.1)\n",
      "Requirement already satisfied: pycparser in c:\\users\\ari\\appdata\\local\\packages\\pythonsoftwarefoundation.python.3.11_qbz5n2kfra8p0\\localcache\\local-packages\\python311\\site-packages (from cffi->ecCodes==1.3.1->merge-downloader) (2.21)\n",
      "Requirement already satisfied: geographiclib<3,>=1.52 in c:\\users\\ari\\appdata\\local\\packages\\pythonsoftwarefoundation.python.3.11_qbz5n2kfra8p0\\localcache\\local-packages\\python311\\site-packages (from geopy->contextily->merge-downloader) (2.0)\n",
      "Requirement already satisfied: contourpy>=1.0.1 in c:\\users\\ari\\appdata\\local\\packages\\pythonsoftwarefoundation.python.3.11_qbz5n2kfra8p0\\localcache\\local-packages\\python311\\site-packages (from matplotlib->contextily->merge-downloader) (1.1.1)\n",
      "Requirement already satisfied: cycler>=0.10 in c:\\users\\ari\\appdata\\local\\packages\\pythonsoftwarefoundation.python.3.11_qbz5n2kfra8p0\\localcache\\local-packages\\python311\\site-packages (from matplotlib->contextily->merge-downloader) (0.11.0)\n",
      "Requirement already satisfied: fonttools>=4.22.0 in c:\\users\\ari\\appdata\\local\\packages\\pythonsoftwarefoundation.python.3.11_qbz5n2kfra8p0\\localcache\\local-packages\\python311\\site-packages (from matplotlib->contextily->merge-downloader) (4.42.1)\n",
      "Requirement already satisfied: kiwisolver>=1.0.1 in c:\\users\\ari\\appdata\\local\\packages\\pythonsoftwarefoundation.python.3.11_qbz5n2kfra8p0\\localcache\\local-packages\\python311\\site-packages (from matplotlib->contextily->merge-downloader) (1.4.5)\n",
      "Requirement already satisfied: charset-normalizer<4,>=2 in c:\\users\\ari\\appdata\\local\\packages\\pythonsoftwarefoundation.python.3.11_qbz5n2kfra8p0\\localcache\\local-packages\\python311\\site-packages (from requests->contextily->merge-downloader) (3.2.0)\n",
      "Requirement already satisfied: idna<4,>=2.5 in c:\\users\\ari\\appdata\\local\\packages\\pythonsoftwarefoundation.python.3.11_qbz5n2kfra8p0\\localcache\\local-packages\\python311\\site-packages (from requests->contextily->merge-downloader) (3.4)\n",
      "Requirement already satisfied: urllib3<3,>=1.21.1 in c:\\users\\ari\\appdata\\local\\packages\\pythonsoftwarefoundation.python.3.11_qbz5n2kfra8p0\\localcache\\local-packages\\python311\\site-packages (from requests->contextily->merge-downloader) (2.0.5)\n"
     ]
    }
   ],
   "source": [
    "pip install merge-downloader"
   ]
  },
  {
   "cell_type": "code",
   "execution_count": 3,
   "metadata": {},
   "outputs": [],
   "source": [
    "%load_ext autoreload\n",
    "%autoreload 2\n",
    "\n",
    "from mergedownloader.downloader import Downloader\n",
    "from mergedownloader.inpeparser import INPEParsers, INPETypes"
   ]
  },
  {
   "cell_type": "code",
   "execution_count": 6,
   "metadata": {},
   "outputs": [],
   "source": [
    "#Selecionando pasta para armazenar download dos arquivos\n",
    "downloader = Downloader(\n",
    "    server=INPEParsers.FTPurl, \n",
    "    parsers=INPEParsers.parsers, \n",
    "    local_folder=r'C:\\Users\\Ari\\Documents\\UFAL\\Pesquisa\\PIBIC 23-24\\Dados\\LIB INPE\\modulos_tratamento_dados\\modulos_tratamento_dados\\dados')"
   ]
  },
  {
   "cell_type": "code",
   "execution_count": 10,
   "metadata": {},
   "outputs": [],
   "source": [
    "# download the rain of 1st of March 2023\n",
    "file = downloader.download_file('2001-01-05', datatype=INPETypes.DAILY_RAIN)"
   ]
  },
  {
   "cell_type": "code",
   "execution_count": null,
   "metadata": {},
   "outputs": [],
   "source": []
  }
 ],
 "metadata": {
  "kernelspec": {
   "display_name": "Python 3",
   "language": "python",
   "name": "python3"
  },
  "language_info": {
   "codemirror_mode": {
    "name": "ipython",
    "version": 3
   },
   "file_extension": ".py",
   "mimetype": "text/x-python",
   "name": "python",
   "nbconvert_exporter": "python",
   "pygments_lexer": "ipython3",
   "version": "3.11.9"
  }
 },
 "nbformat": 4,
 "nbformat_minor": 2
}
